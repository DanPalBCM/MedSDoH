{
 "cells": [
  {
   "cell_type": "code",
   "execution_count": 1,
   "metadata": {},
   "outputs": [],
   "source": [
    "from pathlib import Path\n",
    "import pandas as pd\n",
    "pd.set_option('display.max_columns', None)\n",
    "pd.set_option('display.max_rows', None)\n",
    "\n",
    "from sdoh_nlp.evaluate import Corpus, Evaluation\n",
    "\n",
    "data_dir = \"../data/performance_measure\"\n",
    "human_annotation_dir = data_dir + \"/human_annotation\"\n",
    "model_annotation_dir = data_dir + \"/model_annotation\"\n",
    "dtd_path = \"../models/MedSDoH/schema.dtd\"\n",
    "\n",
    "excluded_categories = [\n",
    "    \"Sex_At_Birth\",\n",
    "    \"Race_or_Ethnicity\",\n",
    "    \"Sexual_Orientation\",\n",
    "    \"Marital_Status\",\n",
    "]  # these categories are not included in the evaluation"
   ]
  },
  {
   "cell_type": "code",
   "execution_count": 4,
   "metadata": {},
   "outputs": [],
   "source": [
    "# Measure performance\n",
    "model_corpus = Corpus(model_annotation_dir, format=\"mae\")\n",
    "human_corpus = Corpus(human_annotation_dir, format=\"mae\")  # gold standard\n",
    "\n",
    "eval = Evaluation(model_corpus.soup, human_corpus.soup, dtd_path, overlap_ratio=0.1)\n",
    "\n",
    "df = eval.get_macro_avg_per_category(excluded_categories=excluded_categories\n",
    ")\n",
    "df"
   ]
  },
  {
   "cell_type": "code",
   "execution_count": 5,
   "metadata": {},
   "outputs": [],
   "source": [
    "# Print errors per category\n",
    "df_errors = eval.get_errors_per_category_with_text().sort_values(by=[\"file\", \"concept_name\"])\n",
    "df_errors = df_errors[~df_errors[\"concept_name\"].isin(excluded_categories)]\n",
    "df_errors.sort_values(by=\"concept_name\").reset_index()"
   ]
  }
 ],
 "metadata": {
  "kernelspec": {
   "display_name": "sdoh_nlp",
   "language": "python",
   "name": "python3"
  },
  "language_info": {
   "codemirror_mode": {
    "name": "ipython",
    "version": 3
   },
   "file_extension": ".py",
   "mimetype": "text/x-python",
   "name": "python",
   "nbconvert_exporter": "python",
   "pygments_lexer": "ipython3",
   "version": "3.13.0"
  }
 },
 "nbformat": 4,
 "nbformat_minor": 2
}
